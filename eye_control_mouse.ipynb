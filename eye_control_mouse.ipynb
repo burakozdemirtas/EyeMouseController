{
 "cells": [
  {
   "cell_type": "code",
   "execution_count": 1,
   "metadata": {},
   "outputs": [],
   "source": [
    "#Kütüphaneleri sisteme yüklüyoruz.\n",
    "import cv2 #görüntü işleme, video analizi kütüphanesi\n",
    "import mediapipe as mp #makine öğrenimi kütüphanesi\n",
    "import pyautogui  #fare ve klavyenizi kontrol etmeyi sağlayan kütüphane"
   ]
  },
  {
   "cell_type": "code",
   "execution_count": 2,
   "metadata": {},
   "outputs": [],
   "source": [
    "cam=cv2.VideoCapture(0)  #Cv2 den video yakalamasını istiyoruz. 0 değerini verince kendi kameramızdan yakalama yapıyor.\n",
    "face_mesh=mp.solutions.face_mesh.FaceMesh(refine_landmarks=True)\n",
    "screen_w, screen_h=pyautogui.size() #Size komuzu ekran çözünürlük bilgimizi bize geri dönüyor. bunu screen_w, screen_h olarak tanımlıyoruz\n",
    "while True:\n",
    "    _,frame=cam.read() #kamera okuma tanımlamalarımızı belli ediyoruz. \n",
    "    frame=cv2.flip(frame,1) #Kameranın ayna yansıma özelliğini, yani yatay olarak ters olmasını düzeltiyoruz.\n",
    "    rgb_frame=cv2.cvtColor(frame, cv2.COLOR_BGR2RGB) #Renkli görüntü tespiti etmek için BGR'ı RGB'ye çeviriyoruz. \n",
    "    output=face_mesh.process(rgb_frame) #Çıktımızı Rgb aldığımızı belirtiyoruz.\n",
    "    landmarks_points=output.multi_face_landmarks #tanımlamamızı yüzün noktalarına eşitliyoruz. Yüzün tamamını görmesi lazım xyz değerler vermesi için.\n",
    "    frame_h, frame_w,_ =frame.shape #Frame in (camera da okunana yerin boyutu) yükseklik değeri ve genişlik değerini alıyoruz.\n",
    "    pyautogui.PAUSE = 0.00000001 #Pytautogui'de mouse hızını arttırmak için, mouse hareket bekleme süresini düşüğe çekiyoruz.\n",
    "    if landmarks_points:\n",
    "        landmarks = landmarks_points[0].landmark #landmarks_\n",
    "        for id, landmark in enumerate(landmarks[474:478]): #Yüzdeki belirli yerlerin numarası vardır. sağ gözün 4 noktasını alıyoruz. 474 den 477 e kadar olan kısmı.478 dahil değil.\n",
    "                                                           #Enumerate kullanarak 2 değere dönüştürüyoruz. 2 Değer ile sınıflandırıp çıktı alıyoruz.\n",
    "            x=int(landmark.x * frame_w)    #X eksenini frame'in genişliği ile çarpıyoruz. Decimal sayı olarak çıktı alıyor. Decimal sayı virgülden sonra çok olduğu için integer'a çeviriyoruz.\n",
    "            y=int(landmark.y * frame_h)    #Y eksenini frame'in yüksekliği ile çarpıyoruz. Decimal sayı olarak çıktı alıyor. Decimal sayı virgülden sonra çok olduğu için integer'a çeviriyoruz.\n",
    "            cv2.circle(frame,(x,y), 3,(0,255,0))  #x ve y nin orta orta noktasını bulup, frame üzerinden yeşil renkte , yüzdeki noktaları belirler.\n",
    "            if id==1:  \n",
    "                screen_x = screen_w / frame_w*x  #Ekran genişliği ile frame'in genişliğini bölüp X ekseni ile çarpıyoruz.\n",
    "                screen_y= screen_h/ frame_h * y  #Ekran yükseliği ile frame'in yüksekliğini bölüp Y ekseni ile çarpıyoruz.\n",
    "                pyautogui.moveTo(screen_x,screen_y)  #mouse 'u screen_x ve screen_y koordinatlarına hareketlendirmeyi tanımlıyoruz.\n",
    "\n",
    "        left = [landmarks[145],landmarks[159]]    #Sol gözün Göz kapağının alt kısmını (145) belirtiyoruz ve üst kısmını (159) belirtiyoruz.\n",
    "        for landmark in left:   #landmark noktalarını sol gözde dolaştırıyoruz.\n",
    "            x=int(landmark.x * frame_w)  #X eksenini frame'in genişliği ile çarpıyoruz. Decimal sayı olarak çıktı alıyor. Decimal sayı virgülden sonra çok olduğu için integer'a çeviriyoruz.\n",
    "            y=int(landmark.y * frame_h)  #Y eksenini frame'in yüksekliği ile çarpıyoruz. Decimal sayı olarak çıktı alıyor. Decimal sayı virgülden sonra çok olduğu için integer'a çeviriyoruz.\n",
    "            cv2.circle(frame,(x,y), 3,(0,255,255)) #x ve y nin orta orta noktasını bulup, frame üzerinden sarı renkte , yüzdeki noktaları belirler.\n",
    "            \n",
    "        if(left[0].y - left[1].y)< 0.005: #Left dizisinin ilk değeri yani göz kapağının altı ile 2. değeri göz kapağının üstünü y kordinatında çıkartıyoruz. \n",
    "                                          #0.005 den küçükse aşağıdaki işlemleri yaptırıyoruz.\n",
    "            pyautogui.click()  #tıklama yaptırıyoruz\n",
    "            pyautogui.sleep(1) #1 sn bekletiyoruz.\n",
    "\n",
    "        mouth = [landmarks[17],landmarks[0]] #Alt dudak (17) ile üst dudağı(0) tanımlıyoruz.\n",
    "        for landmark in mouth: #Yüz noktalarını ağızdan bulduruyoruz.\n",
    "            x=int(landmark.x * frame_w)  #X eksenini frame'in genişliği ile çarpıyoruz. Decimal sayı olarak çıktı alıyor. Decimal sayı virgülden sonra çok olduğu için integer'a çeviriyoruz.\n",
    "            y=int(landmark.y * frame_h)  #Y eksenini frame'in yüksekliği ile çarpıyoruz. Decimal sayı olarak çıktı alıyor. Decimal sayı virgülden sonra çok olduğu için integer'a çeviriyoruz.\n",
    "            cv2.circle(frame,(x,y), 3,(255,0,0)) #alt dudak ve üst dudaktaki noktaları renklendiriyoruz.\n",
    "                \n",
    "        if(mouth[0].y - mouth[1].y) > 0.08 : # alt dudağın y eksenini , üst dudağın y ekseninden çıkarıyoruz.\n",
    "            pyautogui.doubleClick()  #tıklama yaptırıyoruz\n",
    "            pyautogui.sleep(1) #1 sn bekletiyoruz.\n",
    "\n",
    "\n",
    "    cv2.imshow('Göz ile Mouse Kontrolü ',frame)  #çerçeve başlığımız\n",
    "\n",
    "    if cv2.waitKey(10) & 0xFF==ord('q'):  # 0.10sn boyunca q tuşuna basılınca kapatma komutu veriyoruz.\n",
    "        break #kır\n",
    "cam.release() #video almayı kapatır.\n",
    "cv2.destroyAllWindows() #açılan bütün pencereleri yok eder.\n",
    "    "
   ]
  }
 ],
 "metadata": {
  "kernelspec": {
   "display_name": "Python 3.10.5 64-bit",
   "language": "python",
   "name": "python3"
  },
  "language_info": {
   "codemirror_mode": {
    "name": "ipython",
    "version": 3
   },
   "file_extension": ".py",
   "mimetype": "text/x-python",
   "name": "python",
   "nbconvert_exporter": "python",
   "pygments_lexer": "ipython3",
   "version": "3.10.5"
  },
  "orig_nbformat": 4,
  "vscode": {
   "interpreter": {
    "hash": "77166de1c351ea371dae0ccf672aa0a3558769c714b5389e36a0c264c40ed330"
   }
  }
 },
 "nbformat": 4,
 "nbformat_minor": 2
}
